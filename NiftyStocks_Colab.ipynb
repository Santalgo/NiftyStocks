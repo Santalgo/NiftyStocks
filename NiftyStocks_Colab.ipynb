{
 "cells": [
  {
   "cell_type": "markdown",
   "metadata": {},
   "source": [
    "# NiftyStocks Colab Setup\n",
    "This notebook installs NiftyStocks and runs the scanner."
   ]
  },
  {
   "cell_type": "code",
   "metadata": {},
   "execution_count": null,
   "outputs": [],
   "source": [
    "# Clone the repository (replace URL if forked)\n",
    "!git clone https://github.com/Santalgo/NiftyStocks.git && cd NiftyStocks"
   ]
  },
  {
   "cell_type": "code",
   "metadata": {},
   "execution_count": null,
   "outputs": [],
   "source": [
    "# Install dependencies\n",
    "!pip install -q -r requirements.txt"
   ]
  },
  {
   "cell_type": "markdown",
   "metadata": {},
   "source": [
    "Set `TELEGRAM_TOKEN` and `TELEGRAM_CHAT_ID` as environment variables if you want notifications." 
   ]
  },
  {
   "cell_type": "code",
   "metadata": {},
   "execution_count": null,
   "outputs": [],
   "source": [
    "# Example: enable Telegram (optional)\n",
    "import os\n",
    "os.environ['TELEGRAM_TOKEN'] = 'your-bot-token'\n",
    "os.environ['TELEGRAM_CHAT_ID'] = 'target-chat-id'"
   ]
  },
  {
   "cell_type": "code",
   "metadata": {},
   "execution_count": null,
   "outputs": [],
   "source": [
    "# Run the scanner\n",
    "!python run_scan.py --notify"
   ]
  }
 ],
 "metadata": {
  "kernelspec": {
   "display_name": "Python 3",
   "language": "python",
   "name": "python3"
  },
  "language_info": {
   "name": "python",
   "version": "3"
  }
 },
 "nbformat": 4,
 "nbformat_minor": 5
}
